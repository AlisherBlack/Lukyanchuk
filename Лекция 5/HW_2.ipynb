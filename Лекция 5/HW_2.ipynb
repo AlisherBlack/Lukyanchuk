{
 "cells": [
  {
   "cell_type": "code",
   "execution_count": 1,
   "metadata": {},
   "outputs": [],
   "source": []
  },
  {
   "cell_type": "code",
   "execution_count": 82,
   "metadata": {},
   "outputs": [],
   "source": [
    "import numpy as np\n",
    "import matplotlib.pyplot as plt\n",
    "\n",
    "from sympy import *\n",
    "from sympy.plotting import plot"
   ]
  },
  {
   "cell_type": "markdown",
   "metadata": {},
   "source": [
    "Как еще можно вводить символы. [Ссылка](https://flothesof.github.io/harmonic-oscillator-three-methods-solution.html)"
   ]
  },
  {
   "cell_type": "code",
   "execution_count": 100,
   "metadata": {},
   "outputs": [],
   "source": [
    "x10 = Symbol('x10')\n",
    "x20 = Symbol('x20')\n",
    "w1 = Symbol('\\omega_1', real=True)\n",
    "w2 = Symbol('\\omega_2', real=True)\n",
    "w = Symbol('\\omega', real=True)\n",
    "W = Symbol('\\Omega', real=True)\n",
    "f1 = Symbol('f1', real=True)\n",
    "f2 = Symbol('f2', real=True)\n",
    "g1 = Symbol('\\gamma_1', real=True)\n",
    "g2 = Symbol('\\gamma_2', real=True)\n",
    "t = Symbol('t', real=True)\n",
    "\n",
    "x1 = x10 * exp(-I*w*t)\n",
    "x2 = x20 * exp(-I*w*t)"
   ]
  },
  {
   "cell_type": "code",
   "execution_count": 101,
   "metadata": {},
   "outputs": [
    {
     "data": {
      "text/latex": [
       "$\\displaystyle - \\Omega^{2} x_{20} - i \\gamma_{1} \\omega x_{10} - \\omega^{2} x_{10} + \\omega_{1}^{2} x_{10} - f_{1}$"
      ],
      "text/plain": [
       "-\\Omega**2*x20 - I*\\gamma_1*\\omega*x10 - \\omega**2*x10 + \\omega_1**2*x10 - f1"
      ]
     },
     "execution_count": 101,
     "metadata": {},
     "output_type": "execute_result"
    }
   ],
   "source": [
    "eq1 = simplify((diff(x1, t, 2) + g1*diff(x1, t, 1) + w1**2*x1 - W**2*x2 - f1*exp(-I*w*t))/exp(-I*w*t))\n",
    "eq1"
   ]
  },
  {
   "cell_type": "code",
   "execution_count": 102,
   "metadata": {},
   "outputs": [
    {
     "data": {
      "text/latex": [
       "$\\displaystyle - \\Omega^{2} x_{10} - i \\gamma_{2} \\omega x_{20} - \\omega^{2} x_{20} + \\omega_{2}^{2} x_{20} - f_{2}$"
      ],
      "text/plain": [
       "-\\Omega**2*x10 - I*\\gamma_2*\\omega*x20 - \\omega**2*x20 + \\omega_2**2*x20 - f2"
      ]
     },
     "execution_count": 102,
     "metadata": {},
     "output_type": "execute_result"
    }
   ],
   "source": [
    "eq2 = simplify((diff(x2, t, 2) + g2*diff(x2, t, 1) + w2**2*x2 - W**2*x1- f2*exp(-I*w*t))/exp(-I*w*t))\n",
    "eq2"
   ]
  },
  {
   "cell_type": "code",
   "execution_count": 103,
   "metadata": {},
   "outputs": [],
   "source": [
    "s = solve([eq1,\n",
    "           eq2],\n",
    "          x10, x20)"
   ]
  },
  {
   "cell_type": "code",
   "execution_count": 105,
   "metadata": {},
   "outputs": [
    {
     "data": {
      "text/latex": [
       "$\\displaystyle \\frac{- \\Omega^{2} f_{2} + i \\gamma_{2} \\omega f_{1} + \\omega^{2} f_{1} - \\omega_{2}^{2} f_{1}}{\\Omega^{4} + \\gamma_{1} \\gamma_{2} \\omega^{2} - i \\gamma_{1} \\omega^{3} + i \\gamma_{1} \\omega \\omega_{2}^{2} - i \\gamma_{2} \\omega^{3} + i \\gamma_{2} \\omega \\omega_{1}^{2} - \\omega^{4} + \\omega^{2} \\omega_{1}^{2} + \\omega^{2} \\omega_{2}^{2} - \\omega_{1}^{2} \\omega_{2}^{2}}$"
      ],
      "text/plain": [
       "(-\\Omega**2*f2 + I*\\gamma_2*\\omega*f1 + \\omega**2*f1 - \\omega_2**2*f1)/(\\Omega**4 + \\gamma_1*\\gamma_2*\\omega**2 - I*\\gamma_1*\\omega**3 + I*\\gamma_1*\\omega*\\omega_2**2 - I*\\gamma_2*\\omega**3 + I*\\gamma_2*\\omega*\\omega_1**2 - \\omega**4 + \\omega**2*\\omega_1**2 + \\omega**2*\\omega_2**2 - \\omega_1**2*\\omega_2**2)"
      ]
     },
     "execution_count": 105,
     "metadata": {},
     "output_type": "execute_result"
    }
   ],
   "source": [
    "s[x10]"
   ]
  },
  {
   "cell_type": "code",
   "execution_count": 145,
   "metadata": {},
   "outputs": [
    {
     "data": {
      "text/latex": [
       "$\\displaystyle \\frac{- \\Omega^{2} f_{1} + i \\gamma_{1} \\omega f_{2} + \\omega^{2} f_{2} - \\omega_{1}^{2} f_{2}}{\\Omega^{4} + \\gamma_{1} \\gamma_{2} \\omega^{2} - i \\gamma_{1} \\omega^{3} + i \\gamma_{1} \\omega \\omega_{2}^{2} - i \\gamma_{2} \\omega^{3} + i \\gamma_{2} \\omega \\omega_{1}^{2} - \\omega^{4} + \\omega^{2} \\omega_{1}^{2} + \\omega^{2} \\omega_{2}^{2} - \\omega_{1}^{2} \\omega_{2}^{2}}$"
      ],
      "text/plain": [
       "(-\\Omega**2*f1 + I*\\gamma_1*\\omega*f2 + \\omega**2*f2 - \\omega_1**2*f2)/(\\Omega**4 + \\gamma_1*\\gamma_2*\\omega**2 - I*\\gamma_1*\\omega**3 + I*\\gamma_1*\\omega*\\omega_2**2 - I*\\gamma_2*\\omega**3 + I*\\gamma_2*\\omega*\\omega_1**2 - \\omega**4 + \\omega**2*\\omega_1**2 + \\omega**2*\\omega_2**2 - \\omega_1**2*\\omega_2**2)"
      ]
     },
     "execution_count": 145,
     "metadata": {},
     "output_type": "execute_result"
    }
   ],
   "source": [
    "s[x20]"
   ]
  },
  {
   "cell_type": "code",
   "execution_count": 146,
   "metadata": {},
   "outputs": [
    {
     "data": {
      "text/latex": [
       "$\\displaystyle \\arg{\\left(\\frac{- \\Omega^{2} f_{1} + i \\gamma_{1} \\omega f_{2} + \\omega^{2} f_{2} - \\omega_{1}^{2} f_{2}}{\\Omega^{4} + \\gamma_{1} \\gamma_{2} \\omega^{2} - i \\gamma_{1} \\omega^{3} + i \\gamma_{1} \\omega \\omega_{2}^{2} - i \\gamma_{2} \\omega^{3} + i \\gamma_{2} \\omega \\omega_{1}^{2} - \\omega^{4} + \\omega^{2} \\omega_{1}^{2} + \\omega^{2} \\omega_{2}^{2} - \\omega_{1}^{2} \\omega_{2}^{2}} \\right)}$"
      ],
      "text/plain": [
       "arg((-\\Omega**2*f1 + I*\\gamma_1*\\omega*f2 + \\omega**2*f2 - \\omega_1**2*f2)/(\\Omega**4 + \\gamma_1*\\gamma_2*\\omega**2 - I*\\gamma_1*\\omega**3 + I*\\gamma_1*\\omega*\\omega_2**2 - I*\\gamma_2*\\omega**3 + I*\\gamma_2*\\omega*\\omega_1**2 - \\omega**4 + \\omega**2*\\omega_1**2 + \\omega**2*\\omega_2**2 - \\omega_1**2*\\omega_2**2))"
      ]
     },
     "execution_count": 146,
     "metadata": {},
     "output_type": "execute_result"
    }
   ],
   "source": [
    "abs_x10 = Abs(s[x10])\n",
    "abs_x20 = Abs(s[x20])\n",
    "\n",
    "arg_x10 = arg(s[x10])\n",
    "arg_x20 = arg(s[x20])\n",
    "arg_x20"
   ]
  },
  {
   "cell_type": "code",
   "execution_count": 148,
   "metadata": {},
   "outputs": [
    {
     "data": {
      "text/latex": [
       "$\\displaystyle \\arg{\\left(\\frac{- \\Omega^{2} f_{2} + i \\gamma_{2} \\omega f_{1} + \\omega^{2} f_{1} - \\omega_{2}^{2} f_{1}}{\\Omega^{4} + \\gamma_{1} \\gamma_{2} \\omega^{2} - i \\gamma_{1} \\omega^{3} + i \\gamma_{1} \\omega \\omega_{2}^{2} - i \\gamma_{2} \\omega^{3} + i \\gamma_{2} \\omega \\omega_{1}^{2} - \\omega^{4} + \\omega^{2} \\omega_{1}^{2} + \\omega^{2} \\omega_{2}^{2} - \\omega_{1}^{2} \\omega_{2}^{2}} \\right)}$"
      ],
      "text/plain": [
       "arg((-\\Omega**2*f2 + I*\\gamma_2*\\omega*f1 + \\omega**2*f1 - \\omega_2**2*f1)/(\\Omega**4 + \\gamma_1*\\gamma_2*\\omega**2 - I*\\gamma_1*\\omega**3 + I*\\gamma_1*\\omega*\\omega_2**2 - I*\\gamma_2*\\omega**3 + I*\\gamma_2*\\omega*\\omega_1**2 - \\omega**4 + \\omega**2*\\omega_1**2 + \\omega**2*\\omega_2**2 - \\omega_1**2*\\omega_2**2))"
      ]
     },
     "execution_count": 148,
     "metadata": {},
     "output_type": "execute_result"
    }
   ],
   "source": [
    "arg_x10"
   ]
  },
  {
   "cell_type": "code",
   "execution_count": 122,
   "metadata": {},
   "outputs": [
    {
     "name": "stdout",
     "output_type": "stream",
     "text": [
      "\\frac{\\sqrt{\\Omega^{4} f_{2}^{2} - 2 \\Omega^{2} \\omega^{2} f_{1} f_{2} + 2 \\Omega^{2} \\omega_{2}^{2} f_{1} f_{2} + \\gamma_{2}^{2} \\omega^{2} f_{1}^{2} + \\omega^{4} f_{1}^{2} - 2 \\omega^{2} \\omega_{2}^{2} f_{1}^{2} + \\omega_{2}^{4} f_{1}^{2}}}{\\sqrt{\\Omega^{8} + 2 \\Omega^{4} \\gamma_{1} \\gamma_{2} \\omega^{2} - 2 \\Omega^{4} \\omega^{4} + 2 \\Omega^{4} \\omega^{2} \\omega_{1}^{2} + 2 \\Omega^{4} \\omega^{2} \\omega_{2}^{2} - 2 \\Omega^{4} \\omega_{1}^{2} \\omega_{2}^{2} + \\gamma_{1}^{2} \\gamma_{2}^{2} \\omega^{4} + \\gamma_{1}^{2} \\omega^{6} - 2 \\gamma_{1}^{2} \\omega^{4} \\omega_{2}^{2} + \\gamma_{1}^{2} \\omega^{2} \\omega_{2}^{4} + \\gamma_{2}^{2} \\omega^{6} - 2 \\gamma_{2}^{2} \\omega^{4} \\omega_{1}^{2} + \\gamma_{2}^{2} \\omega^{2} \\omega_{1}^{4} + \\omega^{8} - 2 \\omega^{6} \\omega_{1}^{2} - 2 \\omega^{6} \\omega_{2}^{2} + \\omega^{4} \\omega_{1}^{4} + 4 \\omega^{4} \\omega_{1}^{2} \\omega_{2}^{2} + \\omega^{4} \\omega_{2}^{4} - 2 \\omega^{2} \\omega_{1}^{4} \\omega_{2}^{2} - 2 \\omega^{2} \\omega_{1}^{2} \\omega_{2}^{4} + \\omega_{1}^{4} \\omega_{2}^{4}}}\n"
     ]
    }
   ],
   "source": [
    "print(latex(abs_x10))"
   ]
  },
  {
   "cell_type": "markdown",
   "metadata": {},
   "source": [
    "\\begin{equation}\n",
    "\\omega_1=1, \\omega_2=1.1, \\Omega=0.25, \\gamma_1=0.1, \\gamma_2=0.01\\\\\n",
    "f_1=1.0\\\\\n",
    "f_2=0.0\\\\\n",
    "\\end{equation}"
   ]
  },
  {
   "cell_type": "code",
   "execution_count": 133,
   "metadata": {},
   "outputs": [],
   "source": [
    "subs_abs_x10 = abs_x10.subs([(w1, 1), (w2, 1.1), (W, 0.25), (g1, 0.1), (g2, 0.01), (f1, 1.0), (f2, 0)])\n",
    "subs_abs_x20 = abs_x20.subs([(w1, 1), (w2, 1.1), (W, 0.25), (g1, 0.1), (g2, 0.01), (f1, 1.0), (f2, 0)])\n",
    "\n",
    "subs_arg_x10 = arg_x10.subs([(w1, 1), (w2, 1.1), (W, 0.25), (g1, 0.1), (g2, 0.01), (f1, 1.0), (f2, 0)])\n",
    "subs_arg_x20 = arg_x20.subs([(w1, 1), (w2, 1.1), (W, 0.25), (g1, 0.1), (g2, 0.01), (f1, 1.0), (f2, 0)])"
   ]
  },
  {
   "cell_type": "code",
   "execution_count": 141,
   "metadata": {},
   "outputs": [
    {
     "data": {
      "image/png": "[encoded data removed]",
      "text/plain": [
       "<Figure size 432x288 with 1 Axes>"
      ]
     },
     "metadata": {
      "needs_background": "light"
     },
     "output_type": "display_data"
    },
    {
     "data": {
      "text/plain": [
       "<sympy.plotting.plot.Plot at 0x7f899a3dc0a0>"
      ]
     },
     "execution_count": 141,
     "metadata": {},
     "output_type": "execute_result"
    }
   ],
   "source": [
    "plot(subs_abs_x10, (w, 0.8, 1.2), show=True, ylim=(0, 10))"
   ]
  },
  {
   "cell_type": "code",
   "execution_count": 151,
   "metadata": {},
   "outputs": [
    {
     "data": {
      "image/png": "[encoded data removed]",
      "text/plain": [
       "<Figure size 432x288 with 1 Axes>"
      ]
     },
     "metadata": {
      "needs_background": "light"
     },
     "output_type": "display_data"
    },
    {
     "data": {
      "text/plain": [
       "<sympy.plotting.plot.Plot at 0x7f89802f14f0>"
      ]
     },
     "execution_count": 151,
     "metadata": {},
     "output_type": "execute_result"
    }
   ],
   "source": [
    "plot(subs_arg_x10/pi, \n",
    "     subs_arg_x20/pi, \n",
    "     (subs_arg_x20-subs_arg_x10)/pi, \n",
    "     (w, 0.8, 1.2), show=True, \n",
    "     #ylim=(0, 2)\n",
    "     )"
   ]
  },
  {
   "cell_type": "code",
   "execution_count": 115,
   "metadata": {},
   "outputs": [
    {
     "data": {
      "text/latex": [
       "$\\displaystyle \\frac{\\sqrt{\\Omega^{4} f_{2}^{2} - 2 \\Omega^{2} \\omega^{2} f_{1} f_{2} + 2 \\Omega^{2} \\omega_{2}^{2} f_{1} f_{2} + \\gamma_{2}^{2} \\omega^{2} f_{1}^{2} + \\omega^{4} f_{1}^{2} - 2 \\omega^{2} \\omega_{2}^{2} f_{1}^{2} + \\omega_{2}^{4} f_{1}^{2}}}{\\sqrt{\\Omega^{8} + 2 \\Omega^{4} \\gamma_{1} \\gamma_{2} \\omega^{2} - 2 \\Omega^{4} \\omega^{4} + 2 \\Omega^{4} \\omega^{2} \\omega_{1}^{2} + 2 \\Omega^{4} \\omega^{2} \\omega_{2}^{2} - 2 \\Omega^{4} \\omega_{1}^{2} \\omega_{2}^{2} + \\gamma_{1}^{2} \\gamma_{2}^{2} \\omega^{4} + \\gamma_{1}^{2} \\omega^{6} - 2 \\gamma_{1}^{2} \\omega^{4} \\omega_{2}^{2} + \\gamma_{1}^{2} \\omega^{2} \\omega_{2}^{4} + \\gamma_{2}^{2} \\omega^{6} - 2 \\gamma_{2}^{2} \\omega^{4} \\omega_{1}^{2} + \\gamma_{2}^{2} \\omega^{2} \\omega_{1}^{4} + \\omega^{8} - 2 \\omega^{6} \\omega_{1}^{2} - 2 \\omega^{6} \\omega_{2}^{2} + \\omega^{4} \\omega_{1}^{4} + 4 \\omega^{4} \\omega_{1}^{2} \\omega_{2}^{2} + \\omega^{4} \\omega_{2}^{4} - 2 \\omega^{2} \\omega_{1}^{4} \\omega_{2}^{2} - 2 \\omega^{2} \\omega_{1}^{2} \\omega_{2}^{4} + \\omega_{1}^{4} \\omega_{2}^{4}}}$"
      ],
      "text/plain": [
       "sqrt(\\Omega**4*f2**2 - 2*\\Omega**2*\\omega**2*f1*f2 + 2*\\Omega**2*\\omega_2**2*f1*f2 + \\gamma_2**2*\\omega**2*f1**2 + \\omega**4*f1**2 - 2*\\omega**2*\\omega_2**2*f1**2 + \\omega_2**4*f1**2)/sqrt(\\Omega**8 + 2*\\Omega**4*\\gamma_1*\\gamma_2*\\omega**2 - 2*\\Omega**4*\\omega**4 + 2*\\Omega**4*\\omega**2*\\omega_1**2 + 2*\\Omega**4*\\omega**2*\\omega_2**2 - 2*\\Omega**4*\\omega_1**2*\\omega_2**2 + \\gamma_1**2*\\gamma_2**2*\\omega**4 + \\gamma_1**2*\\omega**6 - 2*\\gamma_1**2*\\omega**4*\\omega_2**2 + \\gamma_1**2*\\omega**2*\\omega_2**4 + \\gamma_2**2*\\omega**6 - 2*\\gamma_2**2*\\omega**4*\\omega_1**2 + \\gamma_2**2*\\omega**2*\\omega_1**4 + \\omega**8 - 2*\\omega**6*\\omega_1**2 - 2*\\omega**6*\\omega_2**2 + \\omega**4*\\omega_1**4 + 4*\\omega**4*\\omega_1**2*\\omega_2**2 + \\omega**4*\\omega_2**4 - 2*\\omega**2*\\omega_1**4*\\omega_2**2 - 2*\\omega**2*\\omega_1**2*\\omega_2**4 + \\omega_1**4*\\omega_2**4)"
      ]
     },
     "execution_count": 115,
     "metadata": {},
     "output_type": "execute_result"
    }
   ],
   "source": [
    "abs_x1"
   ]
  }
 ],
 "metadata": {
  "kernelspec": {
   "display_name": "Python 3.9.11 ('base')",
   "language": "python",
   "name": "python3"
  },
  "language_info": {
   "codemirror_mode": {
    "name": "ipython",
    "version": 3
   },
   "file_extension": ".py",
   "mimetype": "text/x-python",
   "name": "python",
   "nbconvert_exporter": "python",
   "pygments_lexer": "ipython3",
   "version": "3.9.11"
  },
  "orig_nbformat": 4,
  "vscode": {
   "interpreter": {
    "hash": "bb3b0188a2e2f043791c0bf3fba85cc1a161a72fce99fb2035565185886e0b0d"
   }
  }
 },
 "nbformat": 4,
 "nbformat_minor": 2
}
